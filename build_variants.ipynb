{
 "cells": [
  {
   "cell_type": "markdown",
   "metadata": {},
   "source": [
    "# Build barcode variant table\n",
    "This Python Jupyter notebook builds consensus sequences for barcoded variants from the mutations called in the processed PacBio CCSs.\n",
    "It then uses these consensus sequences to build a codon variant table.\n",
    "\n",
    "## Set up analysis\n",
    "### Import Python modules.\n",
    "Use [plotnine](https://github.com/has2k1/plotnine) for ggplot2-like plotting.\n",
    "\n",
    "The analysis uses the Bloom lab's [alignparse](https://jbloomlab.github.io/alignparse) and [dms_variants](https://jbloomlab.github.io/dms_variants) packages:"
   ]
  },
  {
   "cell_type": "code",
   "execution_count": 1,
   "metadata": {},
   "outputs": [],
   "source": [
    "import os\n",
    "import re\n",
    "import warnings\n",
    "\n",
    "import alignparse\n",
    "import alignparse.consensus\n",
    "import alignparse.targets\n",
    "\n",
    "import dms_variants\n",
    "import dms_variants.codonvarianttable\n",
    "from dms_variants.constants import CBPALETTE\n",
    "import dms_variants.plotnine_themes\n",
    "\n",
    "from IPython.display import display, HTML\n",
    "\n",
    "import numpy\n",
    "\n",
    "import pandas as pd\n",
    "\n",
    "from plotnine import *\n",
    "\n",
    "import yaml"
   ]
  },
  {
   "cell_type": "markdown",
   "metadata": {},
   "source": [
    "Set [plotnine](https://github.com/has2k1/plotnine) theme to the gray grid one defined in [dms_variants](https://jbloomlab.github.io/dms_variants):"
   ]
  },
  {
   "cell_type": "code",
   "execution_count": 2,
   "metadata": {},
   "outputs": [],
   "source": [
    "theme_set(dms_variants.plotnine_themes.theme_graygrid())"
   ]
  },
  {
   "cell_type": "markdown",
   "metadata": {},
   "source": [
    "Versions of key software:"
   ]
  },
  {
   "cell_type": "code",
   "execution_count": 3,
   "metadata": {},
   "outputs": [
    {
     "name": "stdout",
     "output_type": "stream",
     "text": [
      "Using alignparse version 0.2.4\n",
      "Using dms_variants version 0.8.6\n"
     ]
    }
   ],
   "source": [
    "print(f\"Using alignparse version {alignparse.__version__}\")\n",
    "print(f\"Using dms_variants version {dms_variants.__version__}\")"
   ]
  },
  {
   "cell_type": "markdown",
   "metadata": {},
   "source": [
    "Ignore warnings that clutter output:"
   ]
  },
  {
   "cell_type": "code",
   "execution_count": 4,
   "metadata": {},
   "outputs": [],
   "source": [
    "warnings.simplefilter('ignore')"
   ]
  },
  {
   "cell_type": "markdown",
   "metadata": {},
   "source": [
    "### Parameters for notebook\n",
    "Read the configuration file:"
   ]
  },
  {
   "cell_type": "code",
   "execution_count": 5,
   "metadata": {},
   "outputs": [],
   "source": [
    "with open('config.yaml') as f:\n",
    "    config = yaml.safe_load(f)"
   ]
  },
  {
   "cell_type": "markdown",
   "metadata": {},
   "source": [
    "Make output directories if needed:"
   ]
  },
  {
   "cell_type": "code",
   "execution_count": 6,
   "metadata": {},
   "outputs": [],
   "source": [
    "os.makedirs(config['variants_dir'], exist_ok=True)\n",
    "os.makedirs(config['figs_dir'], exist_ok=True)"
   ]
  },
  {
   "cell_type": "markdown",
   "metadata": {},
   "source": [
    "## Build variant consensus sequences\n",
    "We now use the processed CCSs to build a consensus sequence (really, list of mutations) for each barcoded variant in each library."
   ]
  },
  {
   "cell_type": "markdown",
   "metadata": {},
   "source": [
    "### Get processed CCSs\n",
    "Read the CSV file with the processed CCSs into a data frame:"
   ]
  },
  {
   "cell_type": "code",
   "execution_count": 7,
   "metadata": {},
   "outputs": [
    {
     "name": "stdout",
     "output_type": "stream",
     "text": [
      "Read 890258 CCSs from 2 libraries and 1 targets.\n"
     ]
    }
   ],
   "source": [
    "processed_ccs = pd.read_csv(config['processed_ccs_file'], na_filter=None)\n",
    "\n",
    "nlibs = processed_ccs['library'].nunique()  # number of unique libraries\n",
    "\n",
    "ntargets = processed_ccs['target'].nunique()  # number of unique targets\n",
    "\n",
    "print(f\"Read {len(processed_ccs)} CCSs from {nlibs} libraries and {ntargets} targets.\")"
   ]
  },
  {
   "cell_type": "markdown",
   "metadata": {},
   "source": [
    "Here are the first few lines:"
   ]
  },
  {
   "cell_type": "code",
   "execution_count": 8,
   "metadata": {},
   "outputs": [
    {
     "data": {
      "text/html": [
       "<table border=\"1\" class=\"dataframe\">\n",
       "  <thead>\n",
       "    <tr style=\"text-align: right;\">\n",
       "      <th>library</th>\n",
       "      <th>query_name</th>\n",
       "      <th>gene_mutations</th>\n",
       "      <th>gene_accuracy</th>\n",
       "      <th>barcode</th>\n",
       "      <th>barcode_accuracy</th>\n",
       "      <th>target</th>\n",
       "    </tr>\n",
       "  </thead>\n",
       "  <tbody>\n",
       "    <tr>\n",
       "      <td>lib1</td>\n",
       "      <td>m54228_210504_192625/4194368/ccs</td>\n",
       "      <td>G28A T115G T117A A142G G261T T364C T365G T376A T377A C378G A394G G460A A462G T466A T467A T468A C487A G489A A503G A504C</td>\n",
       "      <td>1.0</td>\n",
       "      <td>AGACTGCCAAAATAAA</td>\n",
       "      <td>1.0</td>\n",
       "      <td>SARS-CoV-2</td>\n",
       "    </tr>\n",
       "  </tbody>\n",
       "</table>"
      ],
      "text/plain": [
       "<IPython.core.display.HTML object>"
      ]
     },
     "metadata": {},
     "output_type": "display_data"
    }
   ],
   "source": [
    "display(HTML(processed_ccs.head(1).to_html(index=False)))"
   ]
  },
  {
   "cell_type": "markdown",
   "metadata": {},
   "source": [
    "Overall statistics on number of total CCSs and number of unique barcodes:"
   ]
  },
  {
   "cell_type": "code",
   "execution_count": 9,
   "metadata": {},
   "outputs": [
    {
     "data": {
      "text/html": [
       "<table border=\"1\" class=\"dataframe\">\n",
       "  <thead>\n",
       "    <tr style=\"text-align: right;\">\n",
       "      <th></th>\n",
       "      <th></th>\n",
       "      <th>total_CCSs</th>\n",
       "      <th>unique_barcodes</th>\n",
       "      <th>avg_CCSs_per_barcode</th>\n",
       "    </tr>\n",
       "    <tr>\n",
       "      <th>target</th>\n",
       "      <th>library</th>\n",
       "      <th></th>\n",
       "      <th></th>\n",
       "      <th></th>\n",
       "    </tr>\n",
       "  </thead>\n",
       "  <tbody>\n",
       "    <tr>\n",
       "      <th rowspan=\"2\" valign=\"top\">SARS-CoV-2</th>\n",
       "      <th>lib1</th>\n",
       "      <td>536400</td>\n",
       "      <td>68845</td>\n",
       "      <td>7.79</td>\n",
       "    </tr>\n",
       "    <tr>\n",
       "      <th>lib2</th>\n",
       "      <td>353858</td>\n",
       "      <td>52120</td>\n",
       "      <td>6.79</td>\n",
       "    </tr>\n",
       "  </tbody>\n",
       "</table>"
      ],
      "text/plain": [
       "<IPython.core.display.HTML object>"
      ]
     },
     "metadata": {},
     "output_type": "display_data"
    }
   ],
   "source": [
    "display(HTML(\n",
    "    processed_ccs\n",
    "    .groupby(['target', 'library'])\n",
    "    .aggregate(total_CCSs=('barcode', 'size'),\n",
    "               unique_barcodes=('barcode', 'nunique'))\n",
    "    .assign(avg_CCSs_per_barcode=lambda x: x['total_CCSs'] / x['unique_barcodes'])\n",
    "    .round(2)\n",
    "    .to_html()\n",
    "    ))"
   ]
  },
  {
   "cell_type": "markdown",
   "metadata": {},
   "source": [
    "### Filter processed CCSs\n",
    "We have the PacBio `ccs` program's estimated \"accuracy\" for both the barcode and the gene sequence for each processed CCS.\n",
    "We will filter the CCSs to only keep ones of sufficiently high accuracy.\n",
    "\n",
    "First, we want to plot the accuracies.\n",
    "It is actually visually easier to look at the error rate, which is one minus the accuracy.\n",
    "Because we want to plot on a log scale (which can't show error rates of zero), we define a *error_rate_floor*, and set all error rates less than this to that value:"
   ]
  },
  {
   "cell_type": "code",
   "execution_count": 10,
   "metadata": {},
   "outputs": [],
   "source": [
    "error_rate_floor = 1e-7  # error rates < this set to this\n",
    "if error_rate_floor >= config['max_error_rate']:\n",
    "    raise ValueError('error_rate_floor must be < max_error_rate')\n",
    "\n",
    "processed_ccs = (\n",
    "    processed_ccs\n",
    "    .assign(barcode_error=lambda x: numpy.clip(1 - x['barcode_accuracy'],\n",
    "                                               error_rate_floor, None),\n",
    "            gene_error=lambda x: numpy.clip(1 - x['gene_accuracy'],\n",
    "                                            error_rate_floor, None)\n",
    "            )\n",
    "    )"
   ]
  },
  {
   "cell_type": "markdown",
   "metadata": {},
   "source": [
    "Now plot the error rates, drawing a dashed vertical line at the threshold separating the CCSs we retain for consensus building versus those that we discard:"
   ]
  },
  {
   "cell_type": "code",
   "execution_count": 11,
   "metadata": {},
   "outputs": [
    {
     "data": {
      "image/png": "[encoded data removed]",
      "text/plain": [
       "<Figure size 450x200 with 2 Axes>"
      ]
     },
     "metadata": {
      "needs_background": "light"
     },
     "output_type": "display_data"
    }
   ],
   "source": [
    "_ = (\n",
    " ggplot(processed_ccs\n",
    "        .melt(value_vars=['barcode_error', 'gene_error'],\n",
    "              var_name='feature_type', value_name='error rate'),\n",
    "        aes('error rate')) +\n",
    " geom_histogram(bins=25) +\n",
    " geom_vline(xintercept=config['max_error_rate'],\n",
    "            linetype='dashed',\n",
    "            color=CBPALETTE[1]) +\n",
    " facet_wrap('~ feature_type') +\n",
    " theme(figure_size=(4.5, 2)) +\n",
    " ylab('number of CCSs') +\n",
    " scale_x_log10()\n",
    " ).draw()"
   ]
  },
  {
   "cell_type": "markdown",
   "metadata": {},
   "source": [
    "Flag the CCSs to retain, and indicate how many we are retaining and purging due to the accuracy filter:"
   ]
  },
  {
   "cell_type": "code",
   "execution_count": 12,
   "metadata": {},
   "outputs": [],
   "source": [
    "processed_ccs = (\n",
    "    processed_ccs\n",
    "    .assign(retained=lambda x: ((x['gene_error'] < config['max_error_rate']) &\n",
    "                                (x['barcode_error'] < config['max_error_rate'])))\n",
    "    )"
   ]
  },
  {
   "cell_type": "markdown",
   "metadata": {},
   "source": [
    "Here are number of retained CCSs:"
   ]
  },
  {
   "cell_type": "code",
   "execution_count": 13,
   "metadata": {},
   "outputs": [
    {
     "data": {
      "image/png": "[encoded data removed]",
      "text/plain": [
       "<Figure size 100x300 with 1 Axes>"
      ]
     },
     "metadata": {
      "needs_background": "light"
     },
     "output_type": "display_data"
    }
   ],
   "source": [
    "_ = (\n",
    " ggplot(processed_ccs\n",
    "                     .groupby(['library', 'retained'])\n",
    "                     .size()\n",
    "                     .rename('count')\n",
    "                     .reset_index(),\n",
    "        aes('library', 'count', color='retained', label='count')) +\n",
    " geom_point(size=3) +\n",
    " geom_text(va='bottom', size=7, ha='center',format_string='{:.3g}', nudge_y=0.2) +\n",
    " theme(figure_size=(0.5 * nlibs * ntargets, 3),\n",
    "       panel_grid_major_x=element_blank(),\n",
    "       axis_text_x=element_text(angle=90),\n",
    "       ) +\n",
    " scale_y_log10(name='number of CCSs') +\n",
    " xlab('') +\n",
    " scale_color_manual(values=CBPALETTE[1:])\n",
    " ).draw()"
   ]
  },
  {
   "cell_type": "markdown",
   "metadata": {},
   "source": [
    "### Sequences per barcode\n",
    "How many times is each barcode sequenced?\n",
    "This is useful to know for thinking about building the barcode consensus.\n",
    "\n",
    "First, plot the distribution of the number of times each **barcode** is observed among the retained CCSs:"
   ]
  },
  {
   "cell_type": "code",
   "execution_count": 14,
   "metadata": {},
   "outputs": [
    {
     "data": {
      "image/png": "[encoded data removed]",
      "text/plain": [
       "<Figure size 350x200 with 2 Axes>"
      ]
     },
     "metadata": {
      "needs_background": "light"
     },
     "output_type": "display_data"
    }
   ],
   "source": [
    "max_count = 8 # in plot, group all barcodes with >= this many counts\n",
    "\n",
    "p = (\n",
    " ggplot(\n",
    "    processed_ccs\n",
    "     .query('retained')\n",
    "     .groupby(['library', 'barcode'])\n",
    "     .size()\n",
    "     .rename('nseqs')\n",
    "     .reset_index()\n",
    "     .assign(nseqs=lambda x: numpy.clip(x['nseqs'], None, max_count)),\n",
    "    aes('nseqs')) +\n",
    " geom_bar() +\n",
    " facet_wrap('~ library', nrow=1) +\n",
    " theme(figure_size=(1.75 * nlibs, 2),\n",
    "       panel_grid_major_x=element_blank(),\n",
    "       ) +\n",
    " ylab('number of barcodes') +\n",
    " xlab('CCSs for barcode')\n",
    " )\n",
    "\n",
    "_ = p.draw()"
   ]
  },
  {
   "cell_type": "markdown",
   "metadata": {},
   "source": [
    "Now we plot the distribution of the number of **sequences** with barcodes that are observed a given number of time (again among retained CCSs).\n",
    "This plot differs from the one above because if a barcode is observed multiple times it is given one count in the barcode-count plot above (which tallies barcodes) but multiple counts in the sequence-count plot below:"
   ]
  },
  {
   "cell_type": "code",
   "execution_count": 15,
   "metadata": {},
   "outputs": [
    {
     "data": {
      "image/png": "[encoded data removed]",
      "text/plain": [
       "<Figure size 350x200 with 2 Axes>"
      ]
     },
     "metadata": {
      "needs_background": "light"
     },
     "output_type": "display_data"
    }
   ],
   "source": [
    "_ = (\n",
    " ggplot(\n",
    "    processed_ccs\n",
    "     .query('retained')\n",
    "     .assign(barcode_counts=1)\n",
    "     .assign(barcode_counts=lambda x: numpy.clip(\n",
    "        x.groupby(['library', 'barcode']).transform('count'), None, max_count)),\n",
    "    aes('barcode_counts')) +\n",
    " geom_bar() +\n",
    " facet_wrap('~ library', nrow=1) +\n",
    " theme(figure_size=(1.75 * nlibs, 2),\n",
    "       panel_grid_major_x=element_blank(),) +\n",
    " ylab('number of CCSs') +\n",
    " xlab('CCSs per barcode')\n",
    " ).draw()"
   ]
  },
  {
   "cell_type": "markdown",
   "metadata": {},
   "source": [
    "### Empirical accuracy of CCSs\n",
    "We want to directly estimate the accuracy of the gene-barcode link rather than relying on the PacBio `ccs` accuracy, which doesn't include inaccuracies due to things like strand exchange or the same barcode on different sequences.\n",
    "\n",
    "One way to do this is to examine instances when we have multiple sequences for the same barcode. \n",
    "We can calculate the empirical accuracy of the sequences by looking at all instances of multiple sequences of the same barcode and determining how often they are identical.\n",
    "This calculation is performed by `alignparse.consensus.empirical_accuracy` using the equations described in the docs for that function.\n",
    "\n",
    "We will do this four for sets of sequences:\n",
    "\n",
    " 1. All of the CCSs retained above.\n",
    " 2. CCSs retained by applying a PacBio `ccs` accuracy filter 10-fold more stringent than the one above.\n",
    "    The rationale is that if this improves the concordance (real accuracy) of the CCSs substantially then maybe we should make the accuracy filter more stringent.\n",
    " 3. Like (1) but excluding all CCSs with indels.\n",
    "    the rationale is that we only really care about substitutions, and will exclude sequences with indels anyway.\n",
    " 4. Like (2) but excluding all CCSs with indels.\n",
    " \n",
    "First, we annotate the sequences with the number of indels and whether they have an indel to enable categorization into the aforementioned sets:"
   ]
  },
  {
   "cell_type": "code",
   "execution_count": 16,
   "metadata": {},
   "outputs": [],
   "source": [
    "processed_ccs = alignparse.consensus.add_mut_info_cols(processed_ccs,\n",
    "                                                       mutation_col='gene_mutations',\n",
    "                                                       n_indel_col='n_indels')\n",
    "\n",
    "processed_ccs = processed_ccs.assign(has_indel=lambda x: x['n_indels'] > 0)"
   ]
  },
  {
   "cell_type": "markdown",
   "metadata": {},
   "source": [
    "Plot how many sequences have indels:"
   ]
  },
  {
   "cell_type": "code",
   "execution_count": 17,
   "metadata": {},
   "outputs": [
    {
     "data": {
      "image/png": "[encoded data removed]",
      "text/plain": [
       "<Figure size 500x300 with 2 Axes>"
      ]
     },
     "metadata": {
      "needs_background": "light"
     },
     "output_type": "display_data"
    }
   ],
   "source": [
    "_ = (\n",
    " ggplot(processed_ccs,\n",
    "        aes('retained', fill='has_indel')) +\n",
    " geom_bar(position='dodge') +\n",
    " geom_text(aes(label='..count..'), stat='count', va='bottom', size=7,\n",
    "           position=position_dodge(width=0.9), format_string='{:.2g}') +\n",
    " theme(figure_size=(2.5 * nlibs, 3),\n",
    "       panel_grid_major_x=element_blank(),\n",
    "       ) +\n",
    " ylab('number of CCSs') +\n",
    " scale_fill_manual(values=CBPALETTE[1:]) +\n",
    " facet_wrap('~ library', nrow=1)\n",
    " ).draw()"
   ]
  },
  {
   "cell_type": "markdown",
   "metadata": {},
   "source": [
    "Now get the empirical accuracy for each of the CCS groups mentioned above:"
   ]
  },
  {
   "cell_type": "code",
   "execution_count": 18,
   "metadata": {},
   "outputs": [],
   "source": [
    "high_acc = config['max_error_rate'] / 10\n",
    "empirical_acc = []\n",
    "\n",
    "for desc, query_str in [\n",
    "        ('retained', 'retained'),\n",
    "        ('retained, no indel', 'retained and not has_indel'),\n",
    "        ('10X accuracy',\n",
    "         f\"(gene_error < {high_acc}) and (barcode_error < {high_acc})\"),\n",
    "        ('10X accuracy, no indel',\n",
    "         f\"(gene_error < {high_acc}) and (barcode_error < {high_acc}) and not has_indel\")\n",
    "        ]:\n",
    "    # get just CCSs in that category\n",
    "    df = processed_ccs.query(query_str)\n",
    "    \n",
    "    # compute empirical accuracy\n",
    "    empirical_acc.append(\n",
    "        alignparse.consensus.empirical_accuracy(df,\n",
    "                                                mutation_col='gene_mutations')\n",
    "        .assign(description=desc)\n",
    "        .merge(df\n",
    "               .groupby('library')\n",
    "               .size()\n",
    "               .rename('number_CCSs')\n",
    "               .reset_index()\n",
    "               )\n",
    "        )\n",
    "\n",
    "# make description categorical to preserve order, and annotate as \"actual\"\n",
    "# the category (\"retained, no indel\") that we will use for building variants.\n",
    "empirical_acc = (\n",
    "    pd.concat(empirical_acc, ignore_index=True, sort=False)\n",
    "    .assign(description=lambda x: pd.Categorical(x['description'],\n",
    "                                                 x['description'].unique(),\n",
    "                                                 ordered=True),\n",
    "            actual=lambda x: numpy.where(x['description'] == 'retained, no indel',\n",
    "                                         True, False),\n",
    "            )\n",
    "    )"
   ]
  },
  {
   "cell_type": "markdown",
   "metadata": {},
   "source": [
    "Display table of the empirical accuracies:"
   ]
  },
  {
   "cell_type": "code",
   "execution_count": 19,
   "metadata": {},
   "outputs": [
    {
     "data": {
      "text/html": [
       "<table border=\"1\" class=\"dataframe\">\n",
       "  <thead>\n",
       "    <tr style=\"text-align: right;\">\n",
       "      <th>library</th>\n",
       "      <th>accuracy</th>\n",
       "      <th>description</th>\n",
       "      <th>number_CCSs</th>\n",
       "      <th>actual</th>\n",
       "    </tr>\n",
       "  </thead>\n",
       "  <tbody>\n",
       "    <tr>\n",
       "      <td>lib1</td>\n",
       "      <td>0.974252</td>\n",
       "      <td>retained</td>\n",
       "      <td>491811</td>\n",
       "      <td>False</td>\n",
       "    </tr>\n",
       "    <tr>\n",
       "      <td>lib2</td>\n",
       "      <td>0.976014</td>\n",
       "      <td>retained</td>\n",
       "      <td>326632</td>\n",
       "      <td>False</td>\n",
       "    </tr>\n",
       "    <tr>\n",
       "      <td>lib1</td>\n",
       "      <td>0.998844</td>\n",
       "      <td>retained, no indel</td>\n",
       "      <td>407146</td>\n",
       "      <td>True</td>\n",
       "    </tr>\n",
       "    <tr>\n",
       "      <td>lib2</td>\n",
       "      <td>0.998954</td>\n",
       "      <td>retained, no indel</td>\n",
       "      <td>272020</td>\n",
       "      <td>True</td>\n",
       "    </tr>\n",
       "    <tr>\n",
       "      <td>lib1</td>\n",
       "      <td>0.984215</td>\n",
       "      <td>10X accuracy</td>\n",
       "      <td>466301</td>\n",
       "      <td>False</td>\n",
       "    </tr>\n",
       "    <tr>\n",
       "      <td>lib2</td>\n",
       "      <td>0.985269</td>\n",
       "      <td>10X accuracy</td>\n",
       "      <td>310791</td>\n",
       "      <td>False</td>\n",
       "    </tr>\n",
       "    <tr>\n",
       "      <td>lib1</td>\n",
       "      <td>0.998962</td>\n",
       "      <td>10X accuracy, no indel</td>\n",
       "      <td>389919</td>\n",
       "      <td>False</td>\n",
       "    </tr>\n",
       "    <tr>\n",
       "      <td>lib2</td>\n",
       "      <td>0.999058</td>\n",
       "      <td>10X accuracy, no indel</td>\n",
       "      <td>261248</td>\n",
       "      <td>False</td>\n",
       "    </tr>\n",
       "  </tbody>\n",
       "</table>"
      ],
      "text/plain": [
       "<IPython.core.display.HTML object>"
      ]
     },
     "metadata": {},
     "output_type": "display_data"
    }
   ],
   "source": [
    "display(HTML(empirical_acc.to_html(index=False)))"
   ]
  },
  {
   "cell_type": "markdown",
   "metadata": {},
   "source": [
    "Plot the empirical accuracies, using a different color to show the category that we will actually use:"
   ]
  },
  {
   "cell_type": "code",
   "execution_count": 20,
   "metadata": {},
   "outputs": [
    {
     "name": "stdout",
     "output_type": "stream",
     "text": [
      "Saving plot to results/figures/empirical_CCS_accuracy.pdf\n"
     ]
    },
    {
     "data": {
      "image/png": "[encoded data removed]",
      "text/plain": [
       "<Figure size 350x225 with 2 Axes>"
      ]
     },
     "metadata": {
      "needs_background": "light"
     },
     "output_type": "display_data"
    }
   ],
   "source": [
    "p = (\n",
    "    ggplot(empirical_acc,\n",
    "           aes('description', 'accuracy', color='actual', label='accuracy')\n",
    "           ) +\n",
    "    geom_point(size=3) +\n",
    "    geom_text(va='bottom', size=9, format_string='{:.3g}', nudge_y=0.003) +\n",
    "    facet_wrap('~ library') +\n",
    "    theme(figure_size=(1.75 * nlibs, 2.25),\n",
    "          axis_text_x=element_text(angle=90),\n",
    "          panel_grid_major_x=element_blank(),\n",
    "          ) +\n",
    "    xlab('') +\n",
    "    scale_y_continuous(name='empirical accuracy', limits=(0.95, 1.005)) +\n",
    "    scale_color_manual(values=CBPALETTE, guide=False)\n",
    "    )\n",
    "\n",
    "plotfile = os.path.join(config['figs_dir'], 'empirical_CCS_accuracy.pdf')\n",
    "print(f\"Saving plot to {plotfile}\")\n",
    "_ = p.draw()"
   ]
  },
  {
   "cell_type": "markdown",
   "metadata": {},
   "source": [
    "The above analysis shows that if we exclude sequences with indels (which we plan to do among our consensus sequences), then the accuracy of each CCS is around 99%. \n",
    "We do **not** get notably higher empirical accuracy by imposing a more stringent filter from the PacBio `ccs` program, indicating that the major sources of error are due to processes that are not modeled in this program's accuracy filter (perhaps strand exchange or barcode sharing).\n",
    "\n",
    "Note that this empirical accuracy is for a **single** CCS.\n",
    "When we build the consensus sequences for each barcode below, we will take the consensus of CCSs within a barcode.\n",
    "So for barcodes with multiple CCSs, the actual accuracy of the consensus sequences will be higher than the empirical accuracy above due to capturing information from multiple CCSs."
   ]
  },
  {
   "cell_type": "markdown",
   "metadata": {},
   "source": [
    "### Consensus sequences for barcodes\n",
    "We call the consensus sequence for each barcode using the simple method implemented in [alignparse.consensus.simple_mutconsensus](https://jbloomlab.github.io/alignparse/alignparse.consensus.html?highlight=simple_mutconsensus#alignparse.consensus.simple_mutconsensus).\n",
    "The documentation for that function explains the method in detail, but basically it works like this:\n",
    " 1. When there is just one CCS per barcode, the consensus is just that sequence.\n",
    " 2. When there are multiple CCSs per barcode, they are used to build a consensus--however, the entire barcode is discarded if there are many differences between CCSs with the barcode, or high-frequency non-consensus mutations. The reason that barcodes are discarded in such cases as many differences between CCSs or high-frequency non-consensus mutations suggest errors such as barcode collisions or strand exchange.\n",
    " \n",
    "First, call the consensus for each barcode including **all** retained sequences, even those with indels:"
   ]
  },
  {
   "cell_type": "code",
   "execution_count": 21,
   "metadata": {},
   "outputs": [],
   "source": [
    "consensus, dropped = alignparse.consensus.simple_mutconsensus(\n",
    "                        processed_ccs.query('retained'),\n",
    "                        group_cols=('library', 'barcode', 'target'),\n",
    "                        mutation_col='gene_mutations',\n",
    "                        )"
   ]
  },
  {
   "cell_type": "markdown",
   "metadata": {},
   "source": [
    "Here are the first few lines of the data frame of consensus sequences for each barcode.\n",
    "In addition to giving the library, barcode, target, and mutations, it also has a column indicating how many CCSs support the variant call:"
   ]
  },
  {
   "cell_type": "code",
   "execution_count": 22,
   "metadata": {},
   "outputs": [
    {
     "data": {
      "text/html": [
       "<table border=\"1\" class=\"dataframe\">\n",
       "  <thead>\n",
       "    <tr style=\"text-align: right;\">\n",
       "      <th>library</th>\n",
       "      <th>barcode</th>\n",
       "      <th>target</th>\n",
       "      <th>gene_mutations</th>\n",
       "      <th>variant_call_support</th>\n",
       "    </tr>\n",
       "  </thead>\n",
       "  <tbody>\n",
       "    <tr>\n",
       "      <td>lib1</td>\n",
       "      <td>AAAAAAAAAAAAAATA</td>\n",
       "      <td>SARS-CoV-2</td>\n",
       "      <td>G28A A259G G261A T376A T377A C378G G437A G438C A503G A504C G521A G522C</td>\n",
       "      <td>3</td>\n",
       "    </tr>\n",
       "    <tr>\n",
       "      <td>lib1</td>\n",
       "      <td>AAAAAAAAAAAACCTA</td>\n",
       "      <td>SARS-CoV-2</td>\n",
       "      <td>G28A A46G G47A A142G A259G G261A G346A G347A T376A T377A C378G G437A G438C G460A A462G C487A G489A G521A G522C</td>\n",
       "      <td>1</td>\n",
       "    </tr>\n",
       "    <tr>\n",
       "      <td>lib1</td>\n",
       "      <td>AAAAAAAAACAATAGT</td>\n",
       "      <td>SARS-CoV-2</td>\n",
       "      <td>A46G G47A A142G A166G G168A A298G G346A G347A T364C T365G T376A T377A C378G A394G G437A G438C G460A A462G A503G A504C G521A G522C</td>\n",
       "      <td>4</td>\n",
       "    </tr>\n",
       "    <tr>\n",
       "      <td>lib1</td>\n",
       "      <td>AAAAAAAAACACCATT</td>\n",
       "      <td>SARS-CoV-2</td>\n",
       "      <td>G28A A46G G47A T115G T117A A259G G261A T364C T365G T376A T377A C378G A394G G437A G438C G460A A462G T466A T467A T468A A503G A504C G521A G522C</td>\n",
       "      <td>7</td>\n",
       "    </tr>\n",
       "    <tr>\n",
       "      <td>lib1</td>\n",
       "      <td>AAAAAAAAACACCTGG</td>\n",
       "      <td>SARS-CoV-2</td>\n",
       "      <td>A142G A166G G168A G346A G347A A394G G460A A462G T466A T467A T468A A503G A504C</td>\n",
       "      <td>2</td>\n",
       "    </tr>\n",
       "  </tbody>\n",
       "</table>"
      ],
      "text/plain": [
       "<IPython.core.display.HTML object>"
      ]
     },
     "metadata": {},
     "output_type": "display_data"
    }
   ],
   "source": [
    "display(HTML(consensus.head().to_html(index=False)))"
   ]
  },
  {
   "cell_type": "markdown",
   "metadata": {},
   "source": [
    "Since we retain variants with substitutions but ignore those with indels, add information about substitution mutations and number of indels:"
   ]
  },
  {
   "cell_type": "code",
   "execution_count": 23,
   "metadata": {},
   "outputs": [
    {
     "data": {
      "text/html": [
       "<table border=\"1\" class=\"dataframe\">\n",
       "  <thead>\n",
       "    <tr style=\"text-align: right;\">\n",
       "      <th>library</th>\n",
       "      <th>barcode</th>\n",
       "      <th>target</th>\n",
       "      <th>gene_mutations</th>\n",
       "      <th>variant_call_support</th>\n",
       "      <th>substitutions</th>\n",
       "      <th>number_of_indels</th>\n",
       "    </tr>\n",
       "  </thead>\n",
       "  <tbody>\n",
       "    <tr>\n",
       "      <td>lib1</td>\n",
       "      <td>AAAAAAAAAAAAAATA</td>\n",
       "      <td>SARS-CoV-2</td>\n",
       "      <td>G28A A259G G261A T376A T377A C378G G437A G438C A503G A504C G521A G522C</td>\n",
       "      <td>3</td>\n",
       "      <td>G28A A259G G261A T376A T377A C378G G437A G438C A503G A504C G521A G522C</td>\n",
       "      <td>0</td>\n",
       "    </tr>\n",
       "    <tr>\n",
       "      <td>lib1</td>\n",
       "      <td>AAAAAAAAAAAACCTA</td>\n",
       "      <td>SARS-CoV-2</td>\n",
       "      <td>G28A A46G G47A A142G A259G G261A G346A G347A T376A T377A C378G G437A G438C G460A A462G C487A G489A G521A G522C</td>\n",
       "      <td>1</td>\n",
       "      <td>G28A A46G G47A A142G A259G G261A G346A G347A T376A T377A C378G G437A G438C G460A A462G C487A G489A G521A G522C</td>\n",
       "      <td>0</td>\n",
       "    </tr>\n",
       "    <tr>\n",
       "      <td>lib1</td>\n",
       "      <td>AAAAAAAAACAATAGT</td>\n",
       "      <td>SARS-CoV-2</td>\n",
       "      <td>A46G G47A A142G A166G G168A A298G G346A G347A T364C T365G T376A T377A C378G A394G G437A G438C G460A A462G A503G A504C G521A G522C</td>\n",
       "      <td>4</td>\n",
       "      <td>A46G G47A A142G A166G G168A A298G G346A G347A T364C T365G T376A T377A C378G A394G G437A G438C G460A A462G A503G A504C G521A G522C</td>\n",
       "      <td>0</td>\n",
       "    </tr>\n",
       "    <tr>\n",
       "      <td>lib1</td>\n",
       "      <td>AAAAAAAAACACCATT</td>\n",
       "      <td>SARS-CoV-2</td>\n",
       "      <td>G28A A46G G47A T115G T117A A259G G261A T364C T365G T376A T377A C378G A394G G437A G438C G460A A462G T466A T467A T468A A503G A504C G521A G522C</td>\n",
       "      <td>7</td>\n",
       "      <td>G28A A46G G47A T115G T117A A259G G261A T364C T365G T376A T377A C378G A394G G437A G438C G460A A462G T466A T467A T468A A503G A504C G521A G522C</td>\n",
       "      <td>0</td>\n",
       "    </tr>\n",
       "    <tr>\n",
       "      <td>lib1</td>\n",
       "      <td>AAAAAAAAACACCTGG</td>\n",
       "      <td>SARS-CoV-2</td>\n",
       "      <td>A142G A166G G168A G346A G347A A394G G460A A462G T466A T467A T468A A503G A504C</td>\n",
       "      <td>2</td>\n",
       "      <td>A142G A166G G168A G346A G347A A394G G460A A462G T466A T467A T468A A503G A504C</td>\n",
       "      <td>0</td>\n",
       "    </tr>\n",
       "  </tbody>\n",
       "</table>"
      ],
      "text/plain": [
       "<IPython.core.display.HTML object>"
      ]
     },
     "metadata": {},
     "output_type": "display_data"
    }
   ],
   "source": [
    "consensus = alignparse.consensus.add_mut_info_cols(\n",
    "                    consensus,\n",
    "                    mutation_col='gene_mutations',\n",
    "                    sub_str_col='substitutions',\n",
    "                    n_indel_col='number_of_indels',\n",
    "                    overwrite_cols=True)\n",
    "\n",
    "display(HTML(consensus.head().to_html(index=False)))"
   ]
  },
  {
   "cell_type": "markdown",
   "metadata": {},
   "source": [
    "Plot distribution of number of CCSs supporting each variant call (consensus), indicating whether or not there is an indel:"
   ]
  },
  {
   "cell_type": "code",
   "execution_count": 24,
   "metadata": {},
   "outputs": [
    {
     "data": {
      "image/png": "[encoded data removed]",
      "text/plain": [
       "<Figure size 350x200 with 4 Axes>"
      ]
     },
     "metadata": {
      "needs_background": "light"
     },
     "output_type": "display_data"
    }
   ],
   "source": [
    "max_variant_call_support = 6  # group variants with >= this much support\n",
    "\n",
    "_ = (\n",
    " ggplot(consensus\n",
    "        .assign(variant_call_support=lambda x: numpy.clip(x['variant_call_support'],\n",
    "                                                          None,\n",
    "                                                          max_variant_call_support),\n",
    "                indel_state=lambda x: numpy.where(x['number_of_indels'] > 0,\n",
    "                                                  'has indel', 'no indel')\n",
    "                ),\n",
    "        aes('variant_call_support')) +\n",
    " geom_bar() +\n",
    " ylab('number of variants') +\n",
    " facet_grid('indel_state ~ library') +\n",
    " theme(figure_size=(1.75 * nlibs, 2),\n",
    "       panel_grid_major_x=element_blank(),\n",
    "       ) \n",
    " ).draw()"
   ]
  },
  {
   "cell_type": "markdown",
   "metadata": {},
   "source": [
    "We see that most variant consensus sequences do **not** have indels, especially if we limit to the more \"accurate\" ones that have multiple CCSs supporting them.\n",
    "\n",
    "We will ignore all consensus sequences with indels in the variant-barcode lookup table. \n",
    "We do this for two reasons:\n",
    " 1. When there is just one CCS supporting a consensus, it is less likely to be accurate as indels are the main mode of PacBio error.\n",
    " 2. For the purposes of our studies, we are interested in point mutations rather than indels anyway.\n",
    " \n",
    "Here are number of valid consensus sequence (no indels) for each library and target:"
   ]
  },
  {
   "cell_type": "code",
   "execution_count": 25,
   "metadata": {},
   "outputs": [
    {
     "data": {
      "text/html": [
       "<table border=\"1\" class=\"dataframe\">\n",
       "  <thead>\n",
       "    <tr style=\"text-align: right;\">\n",
       "      <th>library</th>\n",
       "      <th>target</th>\n",
       "      <th>consensus sequences</th>\n",
       "    </tr>\n",
       "  </thead>\n",
       "  <tbody>\n",
       "    <tr>\n",
       "      <td>lib1</td>\n",
       "      <td>SARS-CoV-2</td>\n",
       "      <td>55885</td>\n",
       "    </tr>\n",
       "    <tr>\n",
       "      <td>lib2</td>\n",
       "      <td>SARS-CoV-2</td>\n",
       "      <td>42727</td>\n",
       "    </tr>\n",
       "  </tbody>\n",
       "</table>"
      ],
      "text/plain": [
       "<IPython.core.display.HTML object>"
      ]
     },
     "metadata": {},
     "output_type": "display_data"
    }
   ],
   "source": [
    "consensus = consensus.query('number_of_indels == 0')\n",
    "\n",
    "lib_target_counts = (\n",
    "    consensus\n",
    "    .groupby(['library', 'target'])\n",
    "    .size()\n",
    "    .rename('consensus sequences')\n",
    "    .reset_index()\n",
    "    )\n",
    "\n",
    "display(HTML(lib_target_counts.to_html(index=False)))"
   ]
  },
  {
   "cell_type": "markdown",
   "metadata": {},
   "source": [
    "Print most common non-primary targets with mutations (useful for debugging):"
   ]
  },
  {
   "cell_type": "markdown",
   "metadata": {},
   "source": [
    "Are there any barcodes in the same library that are shared across targets?\n",
    "If so, we need to get rid of those as they will be confounded in barcode parsing:"
   ]
  },
  {
   "cell_type": "code",
   "execution_count": 26,
   "metadata": {},
   "outputs": [
    {
     "name": "stdout",
     "output_type": "stream",
     "text": [
      "Here are duplicated barcodes:\n"
     ]
    },
    {
     "data": {
      "text/html": [
       "<table border=\"1\" class=\"dataframe\">\n",
       "  <thead>\n",
       "    <tr style=\"text-align: right;\">\n",
       "      <th>library</th>\n",
       "      <th>barcode</th>\n",
       "      <th>duplicate_count</th>\n",
       "    </tr>\n",
       "  </thead>\n",
       "  <tbody>\n",
       "  </tbody>\n",
       "</table>"
      ],
      "text/plain": [
       "<IPython.core.display.HTML object>"
      ]
     },
     "metadata": {},
     "output_type": "display_data"
    },
    {
     "name": "stdout",
     "output_type": "stream",
     "text": [
      "\n",
      "Removing the 0 duplicated barcodes.Started with 98612 barcodes:\n",
      "After removing duplicates, there are 98612 barcodes.\n"
     ]
    }
   ],
   "source": [
    "dup_barcodes = (\n",
    "    consensus\n",
    "    .groupby(['library', 'barcode'])\n",
    "    .size()\n",
    "    .rename('duplicate_count')\n",
    "    .reset_index()\n",
    "    .query('duplicate_count > 1')\n",
    "    )\n",
    "\n",
    "print('Here are duplicated barcodes:')\n",
    "display(HTML(dup_barcodes.head().to_html(index=False)))\n",
    "\n",
    "print(f\"\\nRemoving the {len(dup_barcodes)} duplicated barcodes.\"\n",
    "      f\"Started with {len(consensus)} barcodes:\")\n",
    "consensus = (\n",
    "    consensus\n",
    "    .merge(dup_barcodes, on=['library', 'barcode'], how='outer')\n",
    "    .query('duplicate_count.isnull()', engine='python')\n",
    "    )\n",
    "print(f\"After removing duplicates, there are {len(consensus)} barcodes.\")"
   ]
  },
  {
   "cell_type": "markdown",
   "metadata": {},
   "source": [
    "Below we write the retained consensus sequences to a CSV file that links the nucleotide mutations to the barcodes.\n",
    "(The next section analyzes this variant table in detail, and provides have more precise information on the number of variants and relevant statistics):"
   ]
  },
  {
   "cell_type": "code",
   "execution_count": 27,
   "metadata": {},
   "outputs": [
    {
     "name": "stdout",
     "output_type": "stream",
     "text": [
      "Writing nucleotide variants to results/variants/nucleotide_variant_table.csv\n",
      "Here are the first few lines of this file:\n"
     ]
    },
    {
     "data": {
      "text/html": [
       "<table border=\"1\" class=\"dataframe\">\n",
       "  <thead>\n",
       "    <tr style=\"text-align: right;\">\n",
       "      <th>target</th>\n",
       "      <th>library</th>\n",
       "      <th>barcode</th>\n",
       "      <th>substitutions</th>\n",
       "      <th>variant_call_support</th>\n",
       "    </tr>\n",
       "  </thead>\n",
       "  <tbody>\n",
       "    <tr>\n",
       "      <td>SARS-CoV-2</td>\n",
       "      <td>lib1</td>\n",
       "      <td>AAAAAAAAAAAAAATA</td>\n",
       "      <td>G28A A259G G261A T376A T377A C378G G437A G438C A503G A504C G521A G522C</td>\n",
       "      <td>3</td>\n",
       "    </tr>\n",
       "    <tr>\n",
       "      <td>SARS-CoV-2</td>\n",
       "      <td>lib1</td>\n",
       "      <td>AAAAAAAAAAAACCTA</td>\n",
       "      <td>G28A A46G G47A A142G A259G G261A G346A G347A T376A T377A C378G G437A G438C G460A A462G C487A G489A G521A G522C</td>\n",
       "      <td>1</td>\n",
       "    </tr>\n",
       "    <tr>\n",
       "      <td>SARS-CoV-2</td>\n",
       "      <td>lib1</td>\n",
       "      <td>AAAAAAAAACAATAGT</td>\n",
       "      <td>A46G G47A A142G A166G G168A A298G G346A G347A T364C T365G T376A T377A C378G A394G G437A G438C G460A A462G A503G A504C G521A G522C</td>\n",
       "      <td>4</td>\n",
       "    </tr>\n",
       "    <tr>\n",
       "      <td>SARS-CoV-2</td>\n",
       "      <td>lib1</td>\n",
       "      <td>AAAAAAAAACACCATT</td>\n",
       "      <td>G28A A46G G47A T115G T117A A259G G261A T364C T365G T376A T377A C378G A394G G437A G438C G460A A462G T466A T467A T468A A503G A504C G521A G522C</td>\n",
       "      <td>7</td>\n",
       "    </tr>\n",
       "    <tr>\n",
       "      <td>SARS-CoV-2</td>\n",
       "      <td>lib1</td>\n",
       "      <td>AAAAAAAAACACCTGG</td>\n",
       "      <td>A142G A166G G168A G346A G347A A394G G460A A462G T466A T467A T468A A503G A504C</td>\n",
       "      <td>2</td>\n",
       "    </tr>\n",
       "  </tbody>\n",
       "</table>"
      ],
      "text/plain": [
       "<IPython.core.display.HTML object>"
      ]
     },
     "metadata": {},
     "output_type": "display_data"
    }
   ],
   "source": [
    "print(f\"Writing nucleotide variants to {config['nt_variant_table_file']}\")\n",
    "      \n",
    "(consensus\n",
    " [['target', 'library', 'barcode', 'substitutions', 'variant_call_support']]\n",
    " .to_csv(config['nt_variant_table_file'], index=False)\n",
    " )\n",
    "      \n",
    "print('Here are the first few lines of this file:')\n",
    "display(HTML(\n",
    "    pd.read_csv(config['nt_variant_table_file'], na_filter=None)\n",
    "    .head()\n",
    "    .to_html(index=False)\n",
    "    ))"
   ]
  },
  {
   "cell_type": "markdown",
   "metadata": {},
   "source": [
    "What happened to the barcodes that we \"dropped\" because we could not construct a reliable consensus?\n",
    "The `dropped` data frame from [alignparse.consensus.simple_mutconsensus](https://jbloomlab.github.io/alignparse/alignparse.consensus.html?highlight=simple_mutconsensus#alignparse.consensus.simple_mutconsensus) has this information:"
   ]
  },
  {
   "cell_type": "code",
   "execution_count": 28,
   "metadata": {},
   "outputs": [
    {
     "data": {
      "text/html": [
       "<table border=\"1\" class=\"dataframe\">\n",
       "  <thead>\n",
       "    <tr style=\"text-align: right;\">\n",
       "      <th>library</th>\n",
       "      <th>barcode</th>\n",
       "      <th>target</th>\n",
       "      <th>drop_reason</th>\n",
       "      <th>nseqs</th>\n",
       "    </tr>\n",
       "  </thead>\n",
       "  <tbody>\n",
       "    <tr>\n",
       "      <td>lib1</td>\n",
       "      <td>AAAAACGCCAGAGAAT</td>\n",
       "      <td>SARS-CoV-2</td>\n",
       "      <td>subs diff too large</td>\n",
       "      <td>12</td>\n",
       "    </tr>\n",
       "    <tr>\n",
       "      <td>lib1</td>\n",
       "      <td>AAAAACGTGAAGCACT</td>\n",
       "      <td>SARS-CoV-2</td>\n",
       "      <td>subs diff too large</td>\n",
       "      <td>2</td>\n",
       "    </tr>\n",
       "    <tr>\n",
       "      <td>lib1</td>\n",
       "      <td>AAAAACTCCCTCTTGA</td>\n",
       "      <td>SARS-CoV-2</td>\n",
       "      <td>subs diff too large</td>\n",
       "      <td>6</td>\n",
       "    </tr>\n",
       "    <tr>\n",
       "      <td>lib1</td>\n",
       "      <td>AAAAATAGCCAATGAA</td>\n",
       "      <td>SARS-CoV-2</td>\n",
       "      <td>subs diff too large</td>\n",
       "      <td>17</td>\n",
       "    </tr>\n",
       "    <tr>\n",
       "      <td>lib1</td>\n",
       "      <td>AAAAATGTACAAGCAA</td>\n",
       "      <td>SARS-CoV-2</td>\n",
       "      <td>subs diff too large</td>\n",
       "      <td>6</td>\n",
       "    </tr>\n",
       "  </tbody>\n",
       "</table>"
      ],
      "text/plain": [
       "<IPython.core.display.HTML object>"
      ]
     },
     "metadata": {},
     "output_type": "display_data"
    }
   ],
   "source": [
    "display(HTML(dropped.head().to_html(index=False)))"
   ]
  },
  {
   "cell_type": "markdown",
   "metadata": {},
   "source": [
    "Summarize the information in this data frame on dropped barcodes with the plot below.\n",
    "This plot shows several things.\n",
    "First, we see that the total number of barcodes dropped is modest (just a few thousand per library) relative to the total number of barcodes per library (seen above to be on the order of hundreds of thousands).\n",
    "Second, the main reason that barcodes are dropped is that there are CCSs within the same barcode with suspiciously large numbers of mutations relative to the consensus---which we use as a filter to discard the entire barcode as it could indicate strand exchange or some other issue.\n",
    "In any case, the modest number of dropped barcodes indicates that there probably isn't much of a need to worry: "
   ]
  },
  {
   "cell_type": "code",
   "execution_count": 29,
   "metadata": {},
   "outputs": [
    {
     "data": {
      "image/png": "[encoded data removed]",
      "text/plain": [
       "<Figure size 1000x300 with 8 Axes>"
      ]
     },
     "metadata": {
      "needs_background": "light"
     },
     "output_type": "display_data"
    }
   ],
   "source": [
    "max_nseqs = 8  # plot together all barcodes with >= this many sequences\n",
    "\n",
    "_ = (\n",
    " ggplot(\n",
    "    dropped.assign(nseqs=lambda x: numpy.clip(x['nseqs'], None, max_nseqs)),\n",
    "    aes('nseqs')) + \n",
    " geom_bar() + \n",
    " scale_x_continuous(limits=(1, None)) +\n",
    " xlab('number of sequences for barcode') +\n",
    " ylab('number of barcodes') +\n",
    " facet_grid('library ~ drop_reason') +\n",
    " theme(figure_size=(10, 1.5 * nlibs),\n",
    "       panel_grid_major_x=element_blank(),\n",
    "       )\n",
    " ).draw()"
   ]
  },
  {
   "cell_type": "markdown",
   "metadata": {},
   "source": [
    "## Create barcode-variant table\n",
    "We now create a [CodonVariantTable](https://jbloomlab.github.io/dms_variants/dms_variants.codonvarianttable.html#dms_variants.codonvarianttable.CodonVariantTable) that stores and processes all the information about the variant consensus sequences.\n",
    "Below we initialize such a table, and then analyze information about its composition.\n",
    "\n",
    "### Initialize codon variant table\n",
    "In order to initialize the codon variant table, we need two pieces of information:\n",
    "  1. The wildtype gene sequence.\n",
    "  2. The list of nucleotide mutations for each variant as determined in the consensus calling above.\n",
    "\n",
    "Read \"wildtype\" gene sequence to which we made the alignments (in order to do this, initialize an `alignparse.Targets` and get the gene sequence from it):"
   ]
  },
  {
   "cell_type": "code",
   "execution_count": 30,
   "metadata": {},
   "outputs": [
    {
     "name": "stdout",
     "output_type": "stream",
     "text": [
      "Read gene of 603 nts for SARS-CoV-2 from data/PacBio_amplicons.gb\n"
     ]
    }
   ],
   "source": [
    "targets = alignparse.targets.Targets(seqsfile=config['amplicons'],\n",
    "                                     feature_parse_specs=config['feature_parse_specs'])\n",
    "geneseq = targets.get_target(config['primary_target']).get_feature('gene').seq\n",
    "\n",
    "print(f\"Read gene of {len(geneseq)} nts for {config['primary_target']} from {config['amplicons']}\")"
   ]
  },
  {
   "cell_type": "markdown",
   "metadata": {},
   "source": [
    "Now initialize the codon variant table using this wildtype sequence and our list of nucleotide mutations for each variant:"
   ]
  },
  {
   "cell_type": "code",
   "execution_count": 31,
   "metadata": {},
   "outputs": [],
   "source": [
    "variants = dms_variants.codonvarianttable.CodonVariantTable(\n",
    "                barcode_variant_file=config['nt_variant_table_file'],\n",
    "                geneseq=geneseq,\n",
    "                primary_target=config['primary_target'],\n",
    "                )"
   ]
  },
  {
   "cell_type": "markdown",
   "metadata": {},
   "source": [
    "### Basic stats on variants\n",
    "We now will analyze the variants.\n",
    "In this call and in the plots below, we set `samples=None` as we aren't looking at variant counts in specific samples, but are simply looking at properties of the variants in the table.\n",
    "\n",
    "Here are the number of variants for each target:"
   ]
  },
  {
   "cell_type": "code",
   "execution_count": 32,
   "metadata": {},
   "outputs": [
    {
     "data": {
      "text/html": [
       "<table border=\"1\" class=\"dataframe\">\n",
       "  <thead>\n",
       "    <tr style=\"text-align: right;\">\n",
       "      <th>library</th>\n",
       "      <th>lib1</th>\n",
       "      <th>lib2</th>\n",
       "      <th>all libraries</th>\n",
       "    </tr>\n",
       "    <tr>\n",
       "      <th>target</th>\n",
       "      <th></th>\n",
       "      <th></th>\n",
       "      <th></th>\n",
       "    </tr>\n",
       "  </thead>\n",
       "  <tbody>\n",
       "    <tr>\n",
       "      <th>SARS-CoV-2</th>\n",
       "      <td>55885</td>\n",
       "      <td>42727</td>\n",
       "      <td>98612</td>\n",
       "    </tr>\n",
       "  </tbody>\n",
       "</table>"
      ],
      "text/plain": [
       "<IPython.core.display.HTML object>"
      ]
     },
     "metadata": {},
     "output_type": "display_data"
    }
   ],
   "source": [
    "display(HTML(\n",
    "    variants\n",
    "    .n_variants_df(samples=None)\n",
    "    .pivot_table(index=['target'],\n",
    "                 columns='library',\n",
    "                 values='count')\n",
    "    .to_html()\n",
    "    ))"
   ]
  },
  {
   "cell_type": "markdown",
   "metadata": {},
   "source": [
    "Plot the number of variants supported by each number of CCSs:"
   ]
  },
  {
   "cell_type": "code",
   "execution_count": 33,
   "metadata": {},
   "outputs": [
    {
     "data": {
      "image/png": "[encoded data removed]",
      "text/plain": [
       "<Figure size 572x207 with 3 Axes>"
      ]
     },
     "metadata": {
      "needs_background": "light"
     },
     "output_type": "display_data"
    }
   ],
   "source": [
    "max_support = 10  # group variants with >= this much support\n",
    "\n",
    "p = variants.plotVariantSupportHistogram(max_support=max_support,\n",
    "                                         widthscale=1.1,\n",
    "                                         heightscale=0.9)\n",
    "p = p + theme(panel_grid_major_x=element_blank())  # no vertical grid lines\n",
    "_ = p.draw()"
   ]
  },
  {
   "cell_type": "markdown",
   "metadata": {},
   "source": [
    "### Mutations per variant\n",
    "Plot the number of barcoded variants with each number of amino-acid and codon mutations.\n",
    "This is for the primary target only, and doesn't include the spiked-in secondary targets:"
   ]
  },
  {
   "cell_type": "code",
   "execution_count": 34,
   "metadata": {},
   "outputs": [
    {
     "name": "stdout",
     "output_type": "stream",
     "text": [
      "Saving plot to results/figures/n_aa_muts_per_variant.pdf\n",
      "Saving plot to results/figures/n_codon_muts_per_variant.pdf\n"
     ]
    },
    {
     "data": {
      "image/png": "[encoded data removed]",
      "text/plain": [
       "<Figure size 1100x189 with 3 Axes>"
      ]
     },
     "metadata": {
      "needs_background": "light"
     },
     "output_type": "display_data"
    },
    {
     "data": {
      "image/png": "[encoded data removed]",
      "text/plain": [
       "<Figure size 1100x189 with 3 Axes>"
      ]
     },
     "metadata": {
      "needs_background": "light"
     },
     "output_type": "display_data"
    }
   ],
   "source": [
    "max_muts = 20  # group all variants with >= this many mutations\n",
    "\n",
    "for mut_type in ['aa', 'codon']:\n",
    "    p = variants.plotNumMutsHistogram(mut_type, samples=None, max_muts=max_muts,\n",
    "                                      widthscale=2,\n",
    "                                      heightscale=0.9)\n",
    "    p = p + theme(panel_grid_major_x=element_blank())  # no vertical grid lines\n",
    "    _ = p.draw()\n",
    "    plotfile = os.path.join(config['figs_dir'], f\"n_{mut_type}_muts_per_variant.pdf\")\n",
    "    print(f\"Saving plot to {plotfile}\")\n",
    "    p.save(plotfile)"
   ]
  },
  {
   "cell_type": "markdown",
   "metadata": {},
   "source": [
    "Plot the frequencies of different codon mutation types among **all** variants (any number of mutations), again only for primary target:"
   ]
  },
  {
   "cell_type": "code",
   "execution_count": 35,
   "metadata": {},
   "outputs": [
    {
     "name": "stdout",
     "output_type": "stream",
     "text": [
      "Saving plot to results/figures/avg_muts_per_variant.pdf\n"
     ]
    },
    {
     "data": {
      "image/png": "[encoded data removed]",
      "text/plain": [
       "<Figure size 520x184 with 3 Axes>"
      ]
     },
     "metadata": {
      "needs_background": "light"
     },
     "output_type": "display_data"
    }
   ],
   "source": [
    "p = variants.plotNumCodonMutsByType(variant_type='all', samples=None,\n",
    "                                    ylabel='mutations per variant',\n",
    "                                    heightscale=0.8)\n",
    "p = p + theme(panel_grid_major_x=element_blank())  # no vertical grid lines\n",
    "_ = p.draw()\n",
    "plotfile = os.path.join(config['figs_dir'], f\"avg_muts_per_variant.pdf\")\n",
    "print(f\"Saving plot to {plotfile}\")\n",
    "p.save(plotfile)"
   ]
  },
  {
   "cell_type": "markdown",
   "metadata": {},
   "source": [
    "Variants supported by multiple PacBio CCSs should have fewer spurious mutations since sequencing errors are very unlikely to occur on two CCSs.\n",
    "Below we plot the number of codon mutations per variant among variants with at least two CCSs supporting their call.\n",
    "The difference in mutation rates here and in the plot above (that does not apply the `min_support=2` filter) gives some estimate of the frequency of mutations in our variants our spurious.\n",
    "In fact, we see the numbers are very similar, indicating that few of the mutations are spurious:"
   ]
  },
  {
   "cell_type": "code",
   "execution_count": 36,
   "metadata": {},
   "outputs": [
    {
     "data": {
      "image/png": "[encoded data removed]",
      "text/plain": [
       "<Figure size 520x184 with 3 Axes>"
      ]
     },
     "metadata": {
      "needs_background": "light"
     },
     "output_type": "display_data"
    }
   ],
   "source": [
    "p = variants.plotNumCodonMutsByType(variant_type='all', samples=None,\n",
    "                                    ylabel='mutations per variant', \n",
    "                                    min_support=2, heightscale=0.8)\n",
    "p = p + theme(panel_grid_major_x=element_blank())  # no vertical grid lines\n",
    "_ = p.draw()"
   ]
  },
  {
   "cell_type": "markdown",
   "metadata": {
    "tags": []
   },
   "source": [
    "### Completeness of mutation sampling\n",
    "This particular library is a combinatorial library that has 16 mutated sites, with 2 possible amino acid identities at 15 of these sites, and 3 possible identities at one site (417). \n",
    "\n",
    "There are also single mutants spiked in for each of these sites, in addition to the N501Y and K417N+E484K+N501Y triple mutant. This means there are 16 (sites) +1 (for extra mutation at 417) +1 (N501Y) +1 (triple mutant). \n",
    "\n",
    "Then there are wildtype sequences spiked in as well, but the wildtype barcodes will comprise a much smaller fraction of the library than \"typical\" DMS libraries. \n",
    "\n",
    "The theoretical complexity is (2^15)*3+(19)=98,323 (+ wildtype). \n",
    "\n",
    "We want to see how well we sampled from this combinatorial space.\n",
    "We probably also want to flag sequences that are not part of the intended design, see what they are, and "
   ]
  },
  {
   "cell_type": "markdown",
   "metadata": {},
   "source": [
    "### Mutation frequencies along gene\n",
    "We plot the frequencies of mutations along the gene among the variants for the primary target.\n",
    "Ideally, this would be uniform.\n",
    "We make the plot for both all variants and single-mutant / wildtype variants:"
   ]
  },
  {
   "cell_type": "code",
   "execution_count": 37,
   "metadata": {},
   "outputs": [
    {
     "data": {
      "image/png": "[encoded data removed]",
      "text/plain": [
       "<Figure size 700x180 with 3 Axes>"
      ]
     },
     "metadata": {
      "needs_background": "light"
     },
     "output_type": "display_data"
    },
    {
     "data": {
      "image/png": "[encoded data removed]",
      "text/plain": [
       "<Figure size 700x180 with 3 Axes>"
      ]
     },
     "metadata": {
      "needs_background": "light"
     },
     "output_type": "display_data"
    }
   ],
   "source": [
    "for variant_type in ['all', 'single']:\n",
    "    p = variants.plotMutFreqs(variant_type, mut_type='codon', samples=None)\n",
    "    p.draw()"
   ]
  },
  {
   "cell_type": "markdown",
   "metadata": {},
   "source": [
    "We can also use heat maps to examine the extent to which specific amino-acid or codon mutations are over-represented.\n",
    "These heat maps are large, so we make them just for all variants and the merge of all libraries:"
   ]
  },
  {
   "cell_type": "code",
   "execution_count": 38,
   "metadata": {},
   "outputs": [
    {
     "data": {
      "image/png": "[encoded data removed]",
      "text/plain": [
       "<Figure size 2420x250 with 3 Axes>"
      ]
     },
     "metadata": {
      "needs_background": "light"
     },
     "output_type": "display_data"
    },
    {
     "data": {
      "image/png": "[encoded data removed]",
      "text/plain": [
       "<Figure size 2420x630 with 3 Axes>"
      ]
     },
     "metadata": {
      "needs_background": "light"
     },
     "output_type": "display_data"
    }
   ],
   "source": [
    "for mut_type in ['aa', 'codon']:\n",
    "    p = variants.plotMutHeatmap('all', mut_type, samples=None, #libraries='all_only',\n",
    "                                widthscale=2)\n",
    "    p.draw()"
   ]
  },
  {
   "cell_type": "markdown",
   "metadata": {},
   "source": [
    "Maybe we want to look at a few specific things like:\n",
    "* How many barcodes to we have per single mutant (plus the triple mutant)?\n",
    "* How many barcodes do we have for wildtype?\n",
    "* How good is the coverage of the combinatorial space (still not really sure how to visualize this)\n",
    "\n",
    "First, let's just look at how many barcodes we ahve for wildtype and all single mutants (aggregated)."
   ]
  },
  {
   "cell_type": "code",
   "execution_count": 39,
   "metadata": {},
   "outputs": [
    {
     "data": {
      "text/html": [
       "<table border=\"1\" class=\"dataframe\">\n",
       "  <thead>\n",
       "    <tr style=\"text-align: right;\">\n",
       "      <th>library</th>\n",
       "      <th>lib1</th>\n",
       "      <th>lib2</th>\n",
       "    </tr>\n",
       "    <tr>\n",
       "      <th>n_aa_substitutions</th>\n",
       "      <th></th>\n",
       "      <th></th>\n",
       "    </tr>\n",
       "  </thead>\n",
       "  <tbody>\n",
       "    <tr>\n",
       "      <th>wildtype</th>\n",
       "      <td>252</td>\n",
       "      <td>163</td>\n",
       "    </tr>\n",
       "    <tr>\n",
       "      <th>single mutant</th>\n",
       "      <td>672</td>\n",
       "      <td>475</td>\n",
       "    </tr>\n",
       "  </tbody>\n",
       "</table>"
      ],
      "text/plain": [
       "<IPython.core.display.HTML object>"
      ]
     },
     "metadata": {},
     "output_type": "display_data"
    }
   ],
   "source": [
    "display(HTML(\n",
    "    variants.barcode_variant_df\n",
    "    .query('n_aa_substitutions in [0,1]')\n",
    "    .groupby(['library', 'n_aa_substitutions'])\n",
    "    .size()\n",
    "    .rename('count')\n",
    "    .reset_index()\n",
    "    .pivot_table(index=['n_aa_substitutions'],\n",
    "                 columns='library',\n",
    "                 values='count')\n",
    "    .rename(index={0:'wildtype', 1:'single mutant'})\n",
    "    .to_html(index=True)\n",
    "    ))"
   ]
  },
  {
   "cell_type": "code",
   "execution_count": 40,
   "metadata": {},
   "outputs": [
    {
     "data": {
      "text/html": [
       "<table border=\"1\" class=\"dataframe\">\n",
       "  <thead>\n",
       "    <tr style=\"text-align: right;\">\n",
       "      <th></th>\n",
       "      <th>wildtype</th>\n",
       "      <th>site</th>\n",
       "      <th>mutant</th>\n",
       "      <th>mutation</th>\n",
       "      <th>site_index</th>\n",
       "      <th>aa_substitution</th>\n",
       "    </tr>\n",
       "  </thead>\n",
       "  <tbody>\n",
       "    <tr>\n",
       "      <th>0</th>\n",
       "      <td>E</td>\n",
       "      <td>340</td>\n",
       "      <td>K</td>\n",
       "      <td>E340K</td>\n",
       "      <td>10</td>\n",
       "      <td>E10K</td>\n",
       "    </tr>\n",
       "    <tr>\n",
       "      <th>1</th>\n",
       "      <td>R</td>\n",
       "      <td>346</td>\n",
       "      <td>E</td>\n",
       "      <td>R346E</td>\n",
       "      <td>16</td>\n",
       "      <td>R16E</td>\n",
       "    </tr>\n",
       "  </tbody>\n",
       "</table>"
      ],
      "text/plain": [
       "<IPython.core.display.HTML object>"
      ]
     },
     "metadata": {},
     "output_type": "display_data"
    }
   ],
   "source": [
    "library_design_df = (pd.read_csv(\n",
    "    config['library_design'])\n",
    "    .assign(site_index=lambda x: x['site'].astype(int)-config['site_number_offset'],\n",
    "            aa_substitution=lambda x: x['wildtype']+x['site_index'].astype(str)+x['mutant']\n",
    "                                       )\n",
    "                               )\n",
    "\n",
    "designed_mutations = library_design_df['mutation'].tolist()\n",
    "allowed_aa_subs = library_design_df['aa_substitution'].tolist()\n",
    "\n",
    "display(HTML(library_design_df.head(2).to_html(index=True)))"
   ]
  },
  {
   "cell_type": "markdown",
   "metadata": {},
   "source": [
    "Next, let's look at how many barcodes we have for each single mutant. "
   ]
  },
  {
   "cell_type": "code",
   "execution_count": 41,
   "metadata": {},
   "outputs": [
    {
     "data": {
      "text/html": [
       "<table border=\"1\" class=\"dataframe\">\n",
       "  <thead>\n",
       "    <tr style=\"text-align: right;\">\n",
       "      <th></th>\n",
       "      <th>library</th>\n",
       "      <th>lib1</th>\n",
       "      <th>lib2</th>\n",
       "    </tr>\n",
       "    <tr>\n",
       "      <th>protein_site</th>\n",
       "      <th>mutation</th>\n",
       "      <th></th>\n",
       "      <th></th>\n",
       "    </tr>\n",
       "  </thead>\n",
       "  <tbody>\n",
       "    <tr>\n",
       "      <th>340</th>\n",
       "      <th>E340K</th>\n",
       "      <td>37</td>\n",
       "      <td>29</td>\n",
       "    </tr>\n",
       "    <tr>\n",
       "      <th>346</th>\n",
       "      <th>R346E</th>\n",
       "      <td>27</td>\n",
       "      <td>29</td>\n",
       "    </tr>\n",
       "    <tr>\n",
       "      <th>369</th>\n",
       "      <th>Y369E</th>\n",
       "      <td>43</td>\n",
       "      <td>21</td>\n",
       "    </tr>\n",
       "    <tr>\n",
       "      <th>378</th>\n",
       "      <th>K378E</th>\n",
       "      <td>41</td>\n",
       "      <td>21</td>\n",
       "    </tr>\n",
       "    <tr>\n",
       "      <th>386</th>\n",
       "      <th>K386E</th>\n",
       "      <td>49</td>\n",
       "      <td>27</td>\n",
       "    </tr>\n",
       "    <tr>\n",
       "      <th rowspan=\"2\" valign=\"top\">417</th>\n",
       "      <th>K417E</th>\n",
       "      <td>53</td>\n",
       "      <td>36</td>\n",
       "    </tr>\n",
       "    <tr>\n",
       "      <th>K417N</th>\n",
       "      <td>34</td>\n",
       "      <td>25</td>\n",
       "    </tr>\n",
       "    <tr>\n",
       "      <th>446</th>\n",
       "      <th>G446K</th>\n",
       "      <td>28</td>\n",
       "      <td>16</td>\n",
       "    </tr>\n",
       "    <tr>\n",
       "      <th>452</th>\n",
       "      <th>L452R</th>\n",
       "      <td>40</td>\n",
       "      <td>31</td>\n",
       "    </tr>\n",
       "    <tr>\n",
       "      <th>456</th>\n",
       "      <th>F456K</th>\n",
       "      <td>26</td>\n",
       "      <td>28</td>\n",
       "    </tr>\n",
       "    <tr>\n",
       "      <th>462</th>\n",
       "      <th>K462E</th>\n",
       "      <td>26</td>\n",
       "      <td>24</td>\n",
       "    </tr>\n",
       "    <tr>\n",
       "      <th>476</th>\n",
       "      <th>G476D</th>\n",
       "      <td>30</td>\n",
       "      <td>29</td>\n",
       "    </tr>\n",
       "    <tr>\n",
       "      <th>484</th>\n",
       "      <th>E484K</th>\n",
       "      <td>30</td>\n",
       "      <td>23</td>\n",
       "    </tr>\n",
       "    <tr>\n",
       "      <th>486</th>\n",
       "      <th>F486K</th>\n",
       "      <td>52</td>\n",
       "      <td>29</td>\n",
       "    </tr>\n",
       "    <tr>\n",
       "      <th>493</th>\n",
       "      <th>Q493K</th>\n",
       "      <td>47</td>\n",
       "      <td>32</td>\n",
       "    </tr>\n",
       "    <tr>\n",
       "      <th>498</th>\n",
       "      <th>Q498R</th>\n",
       "      <td>46</td>\n",
       "      <td>35</td>\n",
       "    </tr>\n",
       "    <tr>\n",
       "      <th>501</th>\n",
       "      <th>N501Y</th>\n",
       "      <td>22</td>\n",
       "      <td>21</td>\n",
       "    </tr>\n",
       "    <tr>\n",
       "      <th>504</th>\n",
       "      <th>G504D</th>\n",
       "      <td>36</td>\n",
       "      <td>16</td>\n",
       "    </tr>\n",
       "  </tbody>\n",
       "</table>"
      ],
      "text/plain": [
       "<IPython.core.display.HTML object>"
      ]
     },
     "metadata": {},
     "output_type": "display_data"
    }
   ],
   "source": [
    "display(HTML(\n",
    "    variants.barcode_variant_df\n",
    "    .query('n_aa_substitutions==1')\n",
    "    .groupby(['library', 'aa_substitutions'])\n",
    "    .size()\n",
    "    .rename('count')\n",
    "    .reset_index()\n",
    "    .assign(wildtype=lambda x: x['aa_substitutions'].str[0],\n",
    "            site=lambda x: x['aa_substitutions'].str[1: -1].astype(int),\n",
    "            mutant=lambda x: x['aa_substitutions'].str[-1],\n",
    "            protein_site=lambda x: x['site'] + config['site_number_offset'],\n",
    "            label_site=lambda x: x['protein_site'],\n",
    "            mutation=lambda x: x['wildtype']+x['protein_site'].astype(str)+x['mutant']\n",
    "           )\n",
    "    .sort_values(by='protein_site')\n",
    "    .query('mutation in @designed_mutations')\n",
    "    .pivot_table(index=['protein_site', 'mutation'],\n",
    "                 columns='library',\n",
    "                 values='count')\n",
    "    .to_html(index=True)\n",
    "    ))"
   ]
  },
  {
   "cell_type": "markdown",
   "metadata": {},
   "source": [
    "Next, let's specifically see how many K417N, E484K, N501Y triple mutants we have. \n",
    "This would be `K87N E154K N171Y`"
   ]
  },
  {
   "cell_type": "code",
   "execution_count": 42,
   "metadata": {},
   "outputs": [
    {
     "name": "stdout",
     "output_type": "stream",
     "text": [
      "Here are the number of barcodes for the K417N-E484K-N501Y triple mutant for each library:\n"
     ]
    },
    {
     "data": {
      "text/html": [
       "<table border=\"1\" class=\"dataframe\">\n",
       "  <thead>\n",
       "    <tr style=\"text-align: right;\">\n",
       "      <th></th>\n",
       "      <th>library</th>\n",
       "      <th>count</th>\n",
       "    </tr>\n",
       "  </thead>\n",
       "  <tbody>\n",
       "    <tr>\n",
       "      <th>0</th>\n",
       "      <td>lib1</td>\n",
       "      <td>47</td>\n",
       "    </tr>\n",
       "    <tr>\n",
       "      <th>1</th>\n",
       "      <td>lib2</td>\n",
       "      <td>34</td>\n",
       "    </tr>\n",
       "  </tbody>\n",
       "</table>"
      ],
      "text/plain": [
       "<IPython.core.display.HTML object>"
      ]
     },
     "metadata": {},
     "output_type": "display_data"
    }
   ],
   "source": [
    "print('Here are the number of barcodes for the K417N-E484K-N501Y triple mutant for each library:')\n",
    "display(HTML(\n",
    "    variants.barcode_variant_df\n",
    "    .query('aa_substitutions==\"K87N E154K N171Y\"')\n",
    "    .groupby(['library'])\n",
    "    .size()\n",
    "    .rename('count')\n",
    "    .reset_index()\n",
    "    .to_html(index=True)\n",
    "    ))"
   ]
  },
  {
   "cell_type": "markdown",
   "metadata": {},
   "source": [
    "Next I think we want to see how many mutations are undesired / not part of library design and flag those. "
   ]
  },
  {
   "cell_type": "code",
   "execution_count": 43,
   "metadata": {},
   "outputs": [
    {
     "data": {
      "text/html": [
       "<table border=\"1\" class=\"dataframe\">\n",
       "  <thead>\n",
       "    <tr style=\"text-align: right;\">\n",
       "      <th>library</th>\n",
       "      <th>lib1</th>\n",
       "      <th>lib2</th>\n",
       "    </tr>\n",
       "    <tr>\n",
       "      <th>allowed_mutant</th>\n",
       "      <th></th>\n",
       "      <th></th>\n",
       "    </tr>\n",
       "  </thead>\n",
       "  <tbody>\n",
       "    <tr>\n",
       "      <th>False</th>\n",
       "      <td>4802</td>\n",
       "      <td>3694</td>\n",
       "    </tr>\n",
       "  </tbody>\n",
       "</table>"
      ],
      "text/plain": [
       "<IPython.core.display.HTML object>"
      ]
     },
     "metadata": {},
     "output_type": "display_data"
    }
   ],
   "source": [
    "display(HTML(\n",
    "    variants.barcode_variant_df\n",
    "    .assign(aa_subs_list=lambda x: x['aa_substitutions'].str.split(),\n",
    "            allowed_mutant=lambda x: x['aa_substitutions'].str.split()\n",
    "            .map(lambda s: True if set(s).issubset(allowed_aa_subs) else False),\n",
    "           )\n",
    "    .groupby(['library', 'allowed_mutant'])\n",
    "    .size()\n",
    "    .rename('count')\n",
    "    .reset_index()\n",
    "    .pivot_table(index=['allowed_mutant'],\n",
    "                 columns='library',\n",
    "                 values='count')\n",
    "    .to_html(index=True)\n",
    "    ))"
   ]
  },
  {
   "cell_type": "markdown",
   "metadata": {},
   "source": [
    "### Write codon-variant table\n",
    "We write the codon variant table to a CSV file.\n",
    "This table looks like this:"
   ]
  },
  {
   "cell_type": "markdown",
   "metadata": {},
   "source": [
    "Note how this table differs from the nucleotide variant table we generated above and used to initialize the [CodonVariantTable](https://jbloomlab.github.io/dms_variants/dms_variants.codonvarianttable.html#dms_variants.codonvarianttable.CodonVariantTable) in that it gives **codon** substitutions and associated amino-acid substitutions.\n",
    "\n",
    "Write it to CSV file:"
   ]
  },
  {
   "cell_type": "code",
   "execution_count": 44,
   "metadata": {},
   "outputs": [
    {
     "name": "stdout",
     "output_type": "stream",
     "text": [
      "Writing codon-variant table to results/variants/codon_variant_table.csv\n"
     ]
    },
    {
     "data": {
      "text/html": [
       "<table border=\"1\" class=\"dataframe\">\n",
       "  <thead>\n",
       "    <tr style=\"text-align: right;\">\n",
       "      <th>target</th>\n",
       "      <th>library</th>\n",
       "      <th>barcode</th>\n",
       "      <th>variant_call_support</th>\n",
       "      <th>codon_substitutions</th>\n",
       "      <th>aa_substitutions</th>\n",
       "      <th>n_codon_substitutions</th>\n",
       "      <th>n_aa_substitutions</th>\n",
       "      <th>aa_subs_list</th>\n",
       "      <th>allowed_mutant</th>\n",
       "    </tr>\n",
       "  </thead>\n",
       "  <tbody>\n",
       "    <tr>\n",
       "      <td>SARS-CoV-2</td>\n",
       "      <td>lib1</td>\n",
       "      <td>AAAAAAAAAAAAAATA</td>\n",
       "      <td>3</td>\n",
       "      <td>GAG10AAG AAG87GAA TTC126AAG GGG146GAC CAA168CGC GGG174GAC</td>\n",
       "      <td>E10K K87E F126K G146D Q168R G174D</td>\n",
       "      <td>6</td>\n",
       "      <td>6</td>\n",
       "      <td>[E10K, K87E, F126K, G146D, Q168R, G174D]</td>\n",
       "      <td>True</td>\n",
       "    </tr>\n",
       "    <tr>\n",
       "      <td>SARS-CoV-2</td>\n",
       "      <td>lib1</td>\n",
       "      <td>AAAAAAAAAAAACCTA</td>\n",
       "      <td>1</td>\n",
       "      <td>GAG10AAG AGA16GAA AAG48GAG AAG87GAA GGA116AAA TTC126AAG GGG146GAC GAA154AAG CAG163AAA GGG174GAC</td>\n",
       "      <td>E10K R16E K48E K87E G116K F126K G146D E154K Q163K G174D</td>\n",
       "      <td>10</td>\n",
       "      <td>10</td>\n",
       "      <td>[E10K, R16E, K48E, K87E, G116K, F126K, G146D, E154K, Q163K, G174D]</td>\n",
       "      <td>True</td>\n",
       "    </tr>\n",
       "    <tr>\n",
       "      <td>SARS-CoV-2</td>\n",
       "      <td>lib1</td>\n",
       "      <td>AAAAAAAAACAATAGT</td>\n",
       "      <td>4</td>\n",
       "      <td>AGA16GAA AAG48GAG AAG56GAA ACC100GCC GGA116AAA TTG122CGG TTC126AAG AAA132GAA GGG146GAC GAA154AAG CAA168CGC GGG174GAC</td>\n",
       "      <td>R16E K48E K56E T100A G116K L122R F126K K132E G146D E154K Q168R G174D</td>\n",
       "      <td>12</td>\n",
       "      <td>12</td>\n",
       "      <td>[R16E, K48E, K56E, T100A, G116K, L122R, F126K, K132E, G146D, E154K, Q168R, G174D]</td>\n",
       "      <td>False</td>\n",
       "    </tr>\n",
       "    <tr>\n",
       "      <td>SARS-CoV-2</td>\n",
       "      <td>lib1</td>\n",
       "      <td>AAAAAAAAACACCATT</td>\n",
       "      <td>7</td>\n",
       "      <td>GAG10AAG AGA16GAA TAT39GAA AAG87GAA TTG122CGG TTC126AAG AAA132GAA GGG146GAC GAA154AAG TTT156AAA CAA168CGC GGG174GAC</td>\n",
       "      <td>E10K R16E Y39E K87E L122R F126K K132E G146D E154K F156K Q168R G174D</td>\n",
       "      <td>12</td>\n",
       "      <td>12</td>\n",
       "      <td>[E10K, R16E, Y39E, K87E, L122R, F126K, K132E, G146D, E154K, F156K, Q168R, G174D]</td>\n",
       "      <td>True</td>\n",
       "    </tr>\n",
       "    <tr>\n",
       "      <td>SARS-CoV-2</td>\n",
       "      <td>lib1</td>\n",
       "      <td>AAAAAAAAACACCTGG</td>\n",
       "      <td>2</td>\n",
       "      <td>AAG48GAG AAG56GAA GGA116AAA AAA132GAA GAA154AAG TTT156AAA CAA168CGC</td>\n",
       "      <td>K48E K56E G116K K132E E154K F156K Q168R</td>\n",
       "      <td>7</td>\n",
       "      <td>7</td>\n",
       "      <td>[K48E, K56E, G116K, K132E, E154K, F156K, Q168R]</td>\n",
       "      <td>True</td>\n",
       "    </tr>\n",
       "  </tbody>\n",
       "</table>"
      ],
      "text/plain": [
       "<IPython.core.display.HTML object>"
      ]
     },
     "metadata": {},
     "output_type": "display_data"
    }
   ],
   "source": [
    "print(f\"Writing codon-variant table to {config['codon_variant_table']}\")\n",
    "\n",
    "(variants.barcode_variant_df\n",
    " .assign(aa_subs_list=lambda x: x['aa_substitutions'].str.split(),\n",
    "         allowed_mutant=lambda x: x['aa_substitutions'].str.split()\n",
    "         .map(lambda s: True if set(s).issubset(allowed_aa_subs) else False),)\n",
    " .to_csv(config['codon_variant_table'], index=False)\n",
    ")\n",
    "\n",
    "display(HTML(variants.barcode_variant_df\n",
    "             .assign(aa_subs_list=lambda x: x['aa_substitutions'].str.split(),\n",
    "                     allowed_mutant=lambda x: x['aa_substitutions'].str.split()\n",
    "         .map(lambda s: True if set(s).issubset(allowed_aa_subs) else False),)\n",
    "             .head()\n",
    "             .to_html(index=False)\n",
    "))"
   ]
  },
  {
   "cell_type": "code",
   "execution_count": null,
   "metadata": {},
   "outputs": [],
   "source": []
  }
 ],
 "metadata": {
  "kernelspec": {
   "display_name": "Python 3",
   "language": "python",
   "name": "python3"
  },
  "language_info": {
   "codemirror_mode": {
    "name": "ipython",
    "version": 3
   },
   "file_extension": ".py",
   "mimetype": "text/x-python",
   "name": "python",
   "nbconvert_exporter": "python",
   "pygments_lexer": "ipython3",
   "version": "3.8.8"
  },
  "toc": {
   "nav_menu": {},
   "number_sections": false,
   "sideBar": true,
   "skip_h1_title": false,
   "toc_cell": true,
   "toc_position": {
    "height": "calc(100% - 180px)",
    "left": "10px",
    "top": "150px",
    "width": "241.818px"
   },
   "toc_section_display": "block",
   "toc_window_display": true
  },
  "toc-autonumbering": false,
  "toc-showcode": false,
  "toc-showmarkdowntxt": false,
  "toc-showtags": false
 },
 "nbformat": 4,
 "nbformat_minor": 4
}
